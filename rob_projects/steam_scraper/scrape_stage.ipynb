{
 "cells": [
  {
   "cell_type": "code",
   "execution_count": null,
   "metadata": {},
   "outputs": [],
   "source": [
    "import requests\n",
    "from lxml import html"
   ]
  },
  {
   "cell_type": "code",
   "execution_count": null,
   "metadata": {},
   "outputs": [],
   "source": [
    "page_data = requests.get('https://store.steampowered.com/explore/new/')\n",
    "page = html.fromstring(page_data.content)\n",
    "# doc = LX.html.fromstring(page_data.content)\n",
    "page\n"
   ]
  },
  {
   "cell_type": "code",
   "execution_count": null,
   "metadata": {},
   "outputs": [],
   "source": [
    "page.text_content()"
   ]
  },
  {
   "cell_type": "code",
   "execution_count": null,
   "metadata": {},
   "outputs": [],
   "source": [
    "new_games = page.xpath('//div[@id=\"tab_newreleases_content\"]')[0]\n",
    "new_games"
   ]
  },
  {
   "cell_type": "code",
   "execution_count": null,
   "metadata": {},
   "outputs": [],
   "source": [
    "\n",
    "\n",
    "titles = new_games.xpath('.//div[@class=\"tab_item_name\"]/text()')\n",
    "\n",
    "titles\n",
    "\n",
    "\n",
    "\n"
   ]
  },
  {
   "cell_type": "code",
   "execution_count": null,
   "metadata": {},
   "outputs": [],
   "source": [
    "prices = new_games.xpath('.//div[@class=\"discount_final_price\"]/text()')\n",
    "prices"
   ]
  },
  {
   "cell_type": "code",
   "execution_count": 11,
   "metadata": {},
   "outputs": [
    {
     "data": {
      "text/plain": [
       "[['Indie', 'Racing', 'Horses', 'Online Co-Op'],\n",
       " ['Indie', 'Racing', 'Horses', 'Online Co-Op'],\n",
       " ['Creature Collector', 'Collectathon', 'Turn-Based', 'Difficult'],\n",
       " ['RPG', 'Adventure', 'JRPG', 'Voxel'],\n",
       " ['Western', 'Isometric', 'RPG', 'Immersive Sim'],\n",
       " ['Action', 'Adventure', 'Walking Simulator', 'Exploration'],\n",
       " ['Sokoban', 'Puzzle', 'Abstract', 'Minimalist'],\n",
       " ['Roguelike', 'Strategy', 'Card Game', 'Dungeon Crawler'],\n",
       " ['RPG', 'Party-Based RPG', 'Dungeons & Dragons', 'Fantasy'],\n",
       " ['RPG', 'Turn-Based Combat', 'Fantasy', 'Dungeons & Dragons'],\n",
       " ['FPS', 'Looter Shooter', 'Retro', 'Violent'],\n",
       " ['Free to Play', 'Indie', 'Short', 'Dark Comedy'],\n",
       " ['Indie', 'Strategy', 'RPG', 'Mod'],\n",
       " ['Action', 'Casual', 'Multiplayer', 'Arcade'],\n",
       " ['Singleplayer', 'Supernatural', 'First-Person', 'Action-Adventure'],\n",
       " ['Singleplayer', 'Supernatural', 'First-Person', 'Action-Adventure'],\n",
       " ['Life Sim', 'Dog', 'Cats', 'Education'],\n",
       " ['Utilities', 'Video Production', 'Free to Play', 'Souls-like'],\n",
       " ['Action', '2D Fighter', 'Anime', 'Fighting'],\n",
       " ['Sports', 'Snowboarding', 'Multiplayer', 'Character Customization'],\n",
       " ['Exploration', 'Puzzle', 'RPG', 'Souls-like'],\n",
       " ['Dog', 'Sandbox', 'Cute', 'Life Sim'],\n",
       " ['Simulation', 'Sports', 'PvP', 'Local Co-Op'],\n",
       " ['City Builder', 'Building', 'Management', 'Sandbox'],\n",
       " ['Action', 'Multiplayer', 'Casual', 'Funny'],\n",
       " ['Adventure', 'Action RPG', 'Action-Adventure', 'Sandbox'],\n",
       " ['Dark Humor', 'Horror', 'Tactical', 'Turn-Based Strategy'],\n",
       " ['Co-op Campaign', 'Hand-drawn', 'Cute', 'Casual'],\n",
       " ['Co-op Campaign', 'Hand-drawn', 'Cute', 'Casual'],\n",
       " ['Action', 'Casual', 'Massively Multiplayer', 'Indie'],\n",
       " ['Open World', 'Singleplayer', 'RPG', 'Action'],\n",
       " ['Free to Play', 'Singleplayer', 'Action', 'Casual'],\n",
       " ['Local Co-Op', 'Strategy', 'Auto Battler', 'Turn-Based Strategy'],\n",
       " ['Sandbox', 'America', 'Shooter', 'Multiplayer'],\n",
       " ['Action', 'Indie', 'Co-op', 'Action Roguelike'],\n",
       " ['Action', 'Shooter', 'FPS', 'Multiplayer']]"
      ]
     },
     "execution_count": 11,
     "metadata": {},
     "output_type": "execute_result"
    }
   ],
   "source": [
    "platform_divs = new_games.xpath('.//div[@class=\"tab_item_details\"]/text()')\n",
    "tag_divs = new_games.xpath('.//div[@class=\"tab_item_top_tags\"]')\n",
    "tags = []\n",
    "for div in tag_divs:\n",
    "    tags.append(div.text_content())\n",
    "\n",
    "tags = [tag.split(', ') for tag in tags]\n",
    "tags"
   ]
  },
  {
   "cell_type": "code",
   "execution_count": null,
   "metadata": {},
   "outputs": [],
   "source": [
    "total_platforms = []\n",
    "\n",
    "for game in platform_divs:\n",
    "    temp = game.xpath('.//span[contains(@class, \"platform_img\")]')\n",
    "    platforms = []\n",
    "    for platform in temp:\n",
    "        holder = platform.get('class').split(' ')[-1]\n",
    "        if holder != 'hmd_separator':\n",
    "            platforms.append(holder)\n",
    "\n",
    "    total_platforms.append(platforms)\n",
    "total_platforms"
   ]
  },
  {
   "cell_type": "code",
   "execution_count": null,
   "metadata": {},
   "outputs": [],
   "source": [
    "output = {}\n",
    "\n",
    "headers = ['title', 'price', 'tags', 'platforms']\n",
    "\n",
    "for info in zip(titles, prices, tags, total_platforms):\n",
    "    resp = {}\n",
    "    print(info)\n",
    "    for i in range(1,4):\n",
    "        resp[headers[i]] = info[i]\n",
    "    output[info[0]] = resp"
   ]
  },
  {
   "cell_type": "code",
   "execution_count": null,
   "metadata": {},
   "outputs": [],
   "source": [
    "output"
   ]
  },
  {
   "cell_type": "code",
   "execution_count": null,
   "metadata": {},
   "outputs": [],
   "source": []
  }
 ],
 "metadata": {
  "interpreter": {
   "hash": "1baa965d5efe3ac65b79dfc60c0d706280b1da80fedb7760faf2759126c4f253"
  },
  "kernelspec": {
   "display_name": "Python 3.8.10 64-bit",
   "language": "python",
   "name": "python3"
  },
  "language_info": {
   "codemirror_mode": {
    "name": "ipython",
    "version": 3
   },
   "file_extension": ".py",
   "mimetype": "text/x-python",
   "name": "python",
   "nbconvert_exporter": "python",
   "pygments_lexer": "ipython3",
   "version": "3.8.10"
  },
  "orig_nbformat": 4
 },
 "nbformat": 4,
 "nbformat_minor": 2
}
